{
  "cells": [
    {
      "cell_type": "markdown",
      "metadata": {
        "id": "view-in-github",
        "colab_type": "text"
      },
      "source": [
        "<a href=\"https://colab.research.google.com/github/Anitayea/DS111/blob/main/HW2_AnitaYe_yy3557.ipynb\" target=\"_parent\"><img src=\"https://colab.research.google.com/assets/colab-badge.svg\" alt=\"Open In Colab\"/></a>"
      ]
    },
    {
      "cell_type": "code",
      "execution_count": null,
      "id": "4cab908a",
      "metadata": {
        "id": "4cab908a"
      },
      "outputs": [],
      "source": [
        "import numpy as np\n",
        "import pandas as pd\n",
        "import random\n",
        "import matplotlib.pyplot as plt"
      ]
    },
    {
      "cell_type": "code",
      "execution_count": null,
      "id": "60065e15",
      "metadata": {
        "id": "60065e15",
        "outputId": "40c37171-98de-4fee-beda-7197896a91b9"
      },
      "outputs": [
        {
          "name": "stdout",
          "output_type": "stream",
          "text": [
            "Mean: 5.5\n",
            "Median: 4.5\n",
            "Standard Deviation: 5.17\n"
          ]
        }
      ],
      "source": [
        "#1\n",
        "#a\n",
        "a = np.array([1,1,2,4,5,6,7,18])\n",
        "print(\"Mean: \"+str(np.mean(a)))\n",
        "print(\"Median: \" +str(np.median(a)))\n",
        "print(\"Standard Deviation: \"+str(round(np.std(a),2)))"
      ]
    },
    {
      "cell_type": "code",
      "execution_count": null,
      "id": "d29c8f33",
      "metadata": {
        "id": "d29c8f33",
        "outputId": "52e5b345-c8f4-45dd-f500-180f0ba1ea21"
      },
      "outputs": [
        {
          "name": "stdout",
          "output_type": "stream",
          "text": [
            "Mean: -7.125\n",
            "Median: 4.5\n",
            "Standard Deviation: 35.44\n"
          ]
        }
      ],
      "source": [
        "#b\n",
        "b = np.array([-100,1,2,4,5,6,7,18])\n",
        "print(\"Mean: \"+str(np.mean(b)))\n",
        "print(\"Median: \" +str(np.median(b)))\n",
        "print(\"Standard Deviation: \"+str(round(np.std(b),2)))"
      ]
    },
    {
      "cell_type": "markdown",
      "id": "c2897cc1",
      "metadata": {
        "id": "c2897cc1"
      },
      "source": [
        "c) What do you notice about the relative robustness of these (mean and median) measures?\n",
        "\n",
        "- Obviously, mean and standard deviation is much more easily shifted by one wrong or skewed data especially when the sample size is small like this one. Median stays rather stable, and will not be affected by extreme data points to large extent. As we can see from part b where we introduce a skewed data point, median stays the same, as it is rather robust because it measures the position of data instead of the actual value; while mean and standard deviation is largely affected: mean going to nagtive and standard deviation becomes around 7 times more, since both of them takes into account the values of all elements in the dataset. Although mean and standard deiviation is realtively less robust, we can check use this property to check your data. "
      ]
    },
    {
      "cell_type": "code",
      "execution_count": null,
      "id": "ffd696a6",
      "metadata": {
        "id": "ffd696a6",
        "outputId": "c44925ce-aaf0-40dc-d8b0-a5aa7475c605"
      },
      "outputs": [
        {
          "data": {
            "text/plain": [
              "array([ 7,  6, 18,  2,  5,  2,  1, 18])"
            ]
          },
          "execution_count": 4,
          "metadata": {},
          "output_type": "execute_result"
        }
      ],
      "source": [
        "#2\n",
        "#a\n",
        "def sampling(array, boolean):\n",
        "    #we simply use the np.random.choice method and plug in the array, \n",
        "    #the length of the array and the boolean indicating with or without replacement\n",
        "    return np.random.choice(array, len(array), boolean)\n",
        "sampling(a,True)"
      ]
    },
    {
      "cell_type": "code",
      "execution_count": null,
      "id": "a6350a37",
      "metadata": {
        "id": "a6350a37",
        "outputId": "105cabfa-5997-44ea-afc4-bbc1d3413d05"
      },
      "outputs": [
        {
          "name": "stdout",
          "output_type": "stream",
          "text": [
            "Array: [ 5  6  7  2 18  7 18 18]\n",
            "The mean of the array above is 10.125\n",
            "\n",
            "Array: [18  5 18  5  1  5  5  2]\n",
            "The mean of the array above is 7.375\n",
            "\n",
            "Array: [ 5  5 18  1  2  1  6  6]\n",
            "The mean of the array above is 5.5\n",
            "\n"
          ]
        }
      ],
      "source": [
        "#b\n",
        "# this function loops n times to get and print n samples of array a with or without replacement and their means\n",
        "def multisample(n, boolean):\n",
        "    for i in range(n):\n",
        "        sample = sampling(a,boolean)\n",
        "        print('Array: '+ str(sample))\n",
        "        mean = np.mean(sample)\n",
        "        print('The mean of the array above is '+ str(mean))\n",
        "        print()\n",
        "\n",
        "multisample(3, True)"
      ]
    },
    {
      "cell_type": "code",
      "execution_count": null,
      "id": "259e33fa",
      "metadata": {
        "id": "259e33fa",
        "outputId": "631e8ffe-b0d6-4157-aeb4-233e10cb1fdc"
      },
      "outputs": [
        {
          "name": "stdout",
          "output_type": "stream",
          "text": [
            "Array: [ 1 18  5  6  2  7  4  1]\n",
            "The mean of the array above is 5.5\n",
            "\n",
            "Array: [ 4  7 18  5  1  1  2  6]\n",
            "The mean of the array above is 5.5\n",
            "\n",
            "Array: [ 4  5  1  7  2 18  1  6]\n",
            "The mean of the array above is 5.5\n",
            "\n"
          ]
        }
      ],
      "source": [
        "#c\n",
        "# use the function in part b to sample witout replacement\n",
        "multisample(3, False)"
      ]
    },
    {
      "cell_type": "markdown",
      "id": "774a8dbf",
      "metadata": {
        "id": "774a8dbf"
      },
      "source": [
        "d)  What do you notice about the difference between sampling with replacement and without replacement?\n",
        "\n",
        "- When sampling with replacement, the mean can diverge a lot since the numbers in the array can repeat themselves randomly, so the same number can appear multiple times, messing up the arrays. When sampling without replacement, the mean does not change since all the number are used once and only once. "
      ]
    },
    {
      "cell_type": "code",
      "execution_count": null,
      "id": "396d0a73",
      "metadata": {
        "id": "396d0a73",
        "outputId": "84bf5ae7-495a-4ab9-d5cc-16c4c274dfb4"
      },
      "outputs": [
        {
          "data": {
            "text/plain": [
              "array(['tail', 'head', 'head', 'tail', 'tail', 'tail', 'head', 'tail',\n",
              "       'tail', 'tail', 'head'], dtype='<U4')"
            ]
          },
          "execution_count": 7,
          "metadata": {},
          "output_type": "execute_result"
        }
      ],
      "source": [
        "#3\n",
        "#a\n",
        "#generate 11 random flips of heads and tails\n",
        "faces = ['head','tail']\n",
        "coin = np.random.choice(faces, size = 11)\n",
        "coin"
      ]
    },
    {
      "cell_type": "code",
      "execution_count": null,
      "id": "7972cf51",
      "metadata": {
        "id": "7972cf51",
        "outputId": "26688870-0692-43a4-aa78-90e0e1b28f4a"
      },
      "outputs": [
        {
          "data": {
            "image/png": "[encoded data removed]",
            "text/plain": [
              "<Figure size 432x288 with 1 Axes>"
            ]
          },
          "metadata": {
            "needs_background": "light"
          },
          "output_type": "display_data"
        }
      ],
      "source": [
        "# plot the 11 flips\n",
        "plt.hist(coin, bins=[-.5, .5, 1.5], rwidth=.9, label = 'random flips')\n",
        "plt.title('11 coin flips')\n",
        "plt.xlabel('faces rolled')\n",
        "plt.ylabel('Counts')\n",
        "plt.legend()\n",
        "plt.show()"
      ]
    },
    {
      "cell_type": "code",
      "execution_count": null,
      "id": "764e4375",
      "metadata": {
        "id": "764e4375",
        "outputId": "2ebad32a-eefc-44fd-e201-f43042e7cd91"
      },
      "outputs": [
        {
          "name": "stdout",
          "output_type": "stream",
          "text": [
            "4 heads appeared in a total of 11 flips, \n",
            "so the proportion is 4 / 11 which is approximately 0.36\n"
          ]
        }
      ],
      "source": [
        "#b: Of your 11 rolls, what proportion came up heads?\n",
        "#This line returns the number of heads in the array and divide by total length, 11\n",
        "heads = np.count_nonzero(coin=='head')\n",
        "print(str(heads) +' heads appeared in a total of 11 flips, ')\n",
        "proportion = heads/len(coin)\n",
        "print('so the proportion is '+str(heads) +' / '+str(len(coin))+' which is approximately '+str(round(proportion,2)))"
      ]
    },
    {
      "cell_type": "code",
      "execution_count": null,
      "id": "866f1438",
      "metadata": {
        "id": "866f1438",
        "outputId": "aca2d5b3-8749-4909-92e2-1ad4cb64e299"
      },
      "outputs": [
        {
          "name": "stdout",
          "output_type": "stream",
          "text": [
            "The coin flips:\n"
          ]
        },
        {
          "data": {
            "text/plain": [
              "array(['head', 'tail', 'head', ..., 'tail', 'head', 'head'], dtype='<U4')"
            ]
          },
          "execution_count": 10,
          "metadata": {},
          "output_type": "execute_result"
        }
      ],
      "source": [
        "#c\n",
        "morecoins = np.random.choice(['head','tail'], size = 10000, p =[0.5,0.5])\n",
        "print('The coin flips:')\n",
        "morecoins"
      ]
    },
    {
      "cell_type": "code",
      "execution_count": null,
      "id": "fe5bdca4",
      "metadata": {
        "id": "fe5bdca4",
        "outputId": "2f4a8d2e-144f-4a31-b109-5ee5df94b721"
      },
      "outputs": [
        {
          "data": {
            "image/png": "[encoded data removed]",
            "text/plain": [
              "<Figure size 432x288 with 1 Axes>"
            ]
          },
          "metadata": {
            "needs_background": "light"
          },
          "output_type": "display_data"
        }
      ],
      "source": [
        "# plot\n",
        "plt.hist(morecoins, bins=[-.5, .5, 1.5], rwidth=.9, label='random flips')\n",
        "plt.title('10000 coin flips')\n",
        "plt.xlabel('faces rolled')\n",
        "plt.ylabel('Counts')\n",
        "# the proportion should be 1/2, so 10000*1/2 = 500 is the lln predicted number\n",
        "plt.axhline(5000, color='red', label ='lln predicted number')\n",
        "plt.legend()\n",
        "plt.show()"
      ]
    },
    {
      "cell_type": "raw",
      "id": "da2c29de",
      "metadata": {
        "id": "da2c29de"
      },
      "source": [
        "d What do you observe about this large(r) sample in terms of the LLN?\n",
        "- As the numbers of flips increase, the proportion becomes closer to the theoretical mean. In this case, both the number of heads and tails will approach 10000*1/2=5000. When sample sizes are small, proportions can be far from theoretical mean; but as the sample size increases, it becomes less and less likely, until it is nearly impossible. When sample size increase, the proportion of each trial becomes less important, and therefore the law of large number shows the theoretical result. "
      ]
    },
    {
      "cell_type": "code",
      "execution_count": null,
      "id": "79d04141",
      "metadata": {
        "id": "79d04141"
      },
      "outputs": [],
      "source": [
        "#4\n",
        "#a\n",
        "# This method randomly selects 100 panelists n times and returns the list that tracks the number of black members\n",
        "def blackpanel(n):\n",
        "    #use an array with zeros to keep track of the number of black members\n",
        "    black = np.zeros(n)\n",
        "    races = ['White','Hispanic','Black','Asian','Other']\n",
        "    for i in range(n):\n",
        "        rand = np.random.choice(races, \n",
        "                                size = 100, \n",
        "                                p =[0.48, 0.25, 0.13, 0.11, 0.03])\n",
        "        options, counts = np.unique(rand, return_counts = True)\n",
        "        #because options here sorts the original array with 'Black' on the second element, we use [1] for counts\n",
        "        black[i] = counts[1]\n",
        "    return black"
      ]
    },
    {
      "cell_type": "code",
      "execution_count": null,
      "id": "f1984250",
      "metadata": {
        "id": "f1984250",
        "outputId": "3cf5a08a-15bb-4dcf-b450-f1aa390cab27"
      },
      "outputs": [
        {
          "data": {
            "text/plain": [
              "array([16.,  9., 19., ..., 14., 19., 11.])"
            ]
          },
          "execution_count": 13,
          "metadata": {},
          "output_type": "execute_result"
        }
      ],
      "source": [
        "#b\n",
        "black = blackpanel(5000)\n",
        "black"
      ]
    },
    {
      "cell_type": "code",
      "execution_count": null,
      "id": "229fbfe2",
      "metadata": {
        "id": "229fbfe2",
        "outputId": "94f35d2f-e35e-4845-b34b-c3adb1350ac1"
      },
      "outputs": [
        {
          "data": {
            "image/png": "[encoded data removed]",
            "text/plain": [
              "<Figure size 432x288 with 1 Axes>"
            ]
          },
          "metadata": {
            "needs_background": "light"
          },
          "output_type": "display_data"
        }
      ],
      "source": [
        "# plot\n",
        "plt.hist(black, bins = 25, \n",
        "         weights = np.ones(len(black))/len(black),\n",
        "        label = 'Random Distribution')\n",
        "plt.title('Expected and Observed Black Population in a random sample of 100 citizens in 5000 simulations')\n",
        "plt.xlabel('Numbers of Black members')\n",
        "plt.ylabel('Density')\n",
        "plt.axvline(9, color='red', label = 'Swain Panel')\n",
        "plt.xticks(np.arange(0,30,5))\n",
        "plt.legend()\n",
        "plt.show()"
      ]
    },
    {
      "cell_type": "markdown",
      "id": "897bedc3",
      "metadata": {
        "id": "897bedc3"
      },
      "source": [
        "(c) From looking at your plot, how plausible do you find the claim that the Manhattan jury panel was drawn at random?\n",
        "- From the 5000 simulation, it shows a normal bell-shaped curve that indicates a normal distribution at random. For the case with 9 black members, it is hard to determine given only one data, while even though it is not very close to the ideal mean count 13, it is fair enough to have 9 members to appear once in a while. Therefore, it is reasonable to say that it is drawn at random. \n",
        "\n",
        "(d) Estimate a p-value based on your simulated data. What is the probability of observing 9 or fewer Black panelists, assuming that the null hypothesis is true?"
      ]
    },
    {
      "cell_type": "code",
      "execution_count": null,
      "id": "6ec7d201",
      "metadata": {
        "id": "6ec7d201",
        "outputId": "9a70ee1c-5745-4bd7-a4ed-e280d7232ba1"
      },
      "outputs": [
        {
          "name": "stdout",
          "output_type": "stream",
          "text": [
            "The p-value is 0.1554 based on the random model generated, therefore the probability of observing 9 or few members is 0.1554\n"
          ]
        }
      ],
      "source": [
        "p = len(np.where( black <=9)[0]) / len(black)\n",
        "print('The p-value is '+str(p)+' based on the random model generated, therefore the probability of observing 9 or few members is '+str(p))\n",
        "      "
      ]
    },
    {
      "cell_type": "markdown",
      "id": "9600c0d1",
      "metadata": {
        "id": "9600c0d1"
      },
      "source": [
        "(e) Based on this finding, would you reject or fail to reject the null hypothesis?\n",
        "- The result fails to reject the null hypothesis because the p values is larger than 0.05, which means that it is not significant.   \n",
        "\n",
        "(f) Imagine that we later learned this selection was not random—that lawyers had been intentionally trying to minimize the number of Black panelists. What type of error would we have made with regard to our decision about the null hypothesis?\n",
        "- This is a type 2 error, as we did not reject this false null hypothesis. In this case, the number of black members actually does not indicate a random selection, and this false null hypothesis was not rejected earlier. Therefore, it is a type 2 error. \n"
      ]
    },
    {
      "cell_type": "code",
      "execution_count": null,
      "id": "8eb790ce",
      "metadata": {
        "id": "8eb790ce",
        "outputId": "6517ed4d-667d-4555-c703-86e426f43265"
      },
      "outputs": [
        {
          "data": {
            "text/html": [
              "<div>\n",
              "<style scoped>\n",
              "    .dataframe tbody tr th:only-of-type {\n",
              "        vertical-align: middle;\n",
              "    }\n",
              "\n",
              "    .dataframe tbody tr th {\n",
              "        vertical-align: top;\n",
              "    }\n",
              "\n",
              "    .dataframe thead th {\n",
              "        text-align: right;\n",
              "    }\n",
              "</style>\n",
              "<table border=\"1\" class=\"dataframe\">\n",
              "  <thead>\n",
              "    <tr style=\"text-align: right;\">\n",
              "      <th></th>\n",
              "      <th>name</th>\n",
              "      <th>price</th>\n",
              "      <th>sex</th>\n",
              "      <th>height</th>\n",
              "      <th>color</th>\n",
              "      <th>location</th>\n",
              "      <th>markings</th>\n",
              "      <th>weight</th>\n",
              "      <th>foaldate</th>\n",
              "      <th>registrations</th>\n",
              "      <th>disciplines</th>\n",
              "      <th>temperament</th>\n",
              "      <th>link</th>\n",
              "    </tr>\n",
              "  </thead>\n",
              "  <tbody>\n",
              "    <tr>\n",
              "      <th>0</th>\n",
              "      <td>Always Bar Time</td>\n",
              "      <td>18500.0</td>\n",
              "      <td>Gelding</td>\n",
              "      <td>16.1 hands</td>\n",
              "      <td>Brown</td>\n",
              "      <td>Arthur, Ontario, Canada</td>\n",
              "      <td>NaN</td>\n",
              "      <td>1100 pounds</td>\n",
              "      <td>4-Mar</td>\n",
              "      <td>AQHA - American Quarter Horse Association (453...</td>\n",
              "      <td>Hunter Under Saddle (Champion) Equitation (Cha...</td>\n",
              "      <td>2</td>\n",
              "      <td>http://www.equine.com/horses-for-sale/horse-ad...</td>\n",
              "    </tr>\n",
              "    <tr>\n",
              "      <th>1</th>\n",
              "      <td>Sonny</td>\n",
              "      <td>1000.0</td>\n",
              "      <td>Gelding</td>\n",
              "      <td>14.2 hands</td>\n",
              "      <td>Bay</td>\n",
              "      <td>Carbondale, Kansas</td>\n",
              "      <td>NaN</td>\n",
              "      <td>NaN</td>\n",
              "      <td>1-Jan</td>\n",
              "      <td>NaN</td>\n",
              "      <td>Youth/4-H Horse (Prospect) Trail Horse (Traine...</td>\n",
              "      <td>2</td>\n",
              "      <td>http://www.equine.com/horses-for-sale/horse-ad...</td>\n",
              "    </tr>\n",
              "    <tr>\n",
              "      <th>2</th>\n",
              "      <td>Norman</td>\n",
              "      <td>5800.0</td>\n",
              "      <td>Gelding</td>\n",
              "      <td>15.2 hands</td>\n",
              "      <td>Sorrel</td>\n",
              "      <td>Hale, Michigan</td>\n",
              "      <td>3 white socks and a blaze</td>\n",
              "      <td>NaN</td>\n",
              "      <td>5-Apr</td>\n",
              "      <td>AQHA - American Quarter Horse Association (491...</td>\n",
              "      <td>Halter (Competed or Shown) Horsemanship (Compe...</td>\n",
              "      <td>3</td>\n",
              "      <td>http://www.equine.com/horses-for-sale/horse-ad...</td>\n",
              "    </tr>\n",
              "    <tr>\n",
              "      <th>3</th>\n",
              "      <td>Twist Kitty Chex</td>\n",
              "      <td>2000.0</td>\n",
              "      <td>Mare</td>\n",
              "      <td>NaN</td>\n",
              "      <td>Palomino</td>\n",
              "      <td>Bloomfield, Nebraska</td>\n",
              "      <td>NaN</td>\n",
              "      <td>600 pounds</td>\n",
              "      <td>12-May</td>\n",
              "      <td>AQHA - American Quarter Horse Association (549...</td>\n",
              "      <td>Cutting (Prospect) Ranch Sorting (Prospect) Re...</td>\n",
              "      <td>1</td>\n",
              "      <td>http://www.equine.com/horses-for-sale/horse-ad...</td>\n",
              "    </tr>\n",
              "    <tr>\n",
              "      <th>4</th>\n",
              "      <td>Drews Approval</td>\n",
              "      <td>6500.0</td>\n",
              "      <td>Gelding</td>\n",
              "      <td>16.2 hands</td>\n",
              "      <td>Palomino</td>\n",
              "      <td>Oglesby, Texas</td>\n",
              "      <td>NaN</td>\n",
              "      <td>1100 pounds</td>\n",
              "      <td>Apr-00</td>\n",
              "      <td>ApHC - Appaloosa Horse Club (617728)</td>\n",
              "      <td>Showmanship (Competed or Shown) Youth/4-H Hors...</td>\n",
              "      <td>4</td>\n",
              "      <td>http://www.equine.com/horses-for-sale/horse-ad...</td>\n",
              "    </tr>\n",
              "  </tbody>\n",
              "</table>\n",
              "</div>"
            ],
            "text/plain": [
              "               name    price      sex      height     color  \\\n",
              "0   Always Bar Time  18500.0  Gelding  16.1 hands     Brown   \n",
              "1             Sonny   1000.0  Gelding  14.2 hands       Bay   \n",
              "2            Norman   5800.0  Gelding  15.2 hands    Sorrel   \n",
              "3  Twist Kitty Chex   2000.0     Mare         NaN  Palomino   \n",
              "4    Drews Approval   6500.0  Gelding  16.2 hands  Palomino   \n",
              "\n",
              "                  location                   markings       weight foaldate  \\\n",
              "0  Arthur, Ontario, Canada                        NaN  1100 pounds    4-Mar   \n",
              "1       Carbondale, Kansas                        NaN          NaN    1-Jan   \n",
              "2           Hale, Michigan  3 white socks and a blaze          NaN    5-Apr   \n",
              "3     Bloomfield, Nebraska                        NaN   600 pounds   12-May   \n",
              "4           Oglesby, Texas                        NaN  1100 pounds   Apr-00   \n",
              "\n",
              "                                       registrations  \\\n",
              "0  AQHA - American Quarter Horse Association (453...   \n",
              "1                                                NaN   \n",
              "2  AQHA - American Quarter Horse Association (491...   \n",
              "3  AQHA - American Quarter Horse Association (549...   \n",
              "4               ApHC - Appaloosa Horse Club (617728)   \n",
              "\n",
              "                                         disciplines  temperament  \\\n",
              "0  Hunter Under Saddle (Champion) Equitation (Cha...            2   \n",
              "1  Youth/4-H Horse (Prospect) Trail Horse (Traine...            2   \n",
              "2  Halter (Competed or Shown) Horsemanship (Compe...            3   \n",
              "3  Cutting (Prospect) Ranch Sorting (Prospect) Re...            1   \n",
              "4  Showmanship (Competed or Shown) Youth/4-H Hors...            4   \n",
              "\n",
              "                                                link  \n",
              "0  http://www.equine.com/horses-for-sale/horse-ad...  \n",
              "1  http://www.equine.com/horses-for-sale/horse-ad...  \n",
              "2  http://www.equine.com/horses-for-sale/horse-ad...  \n",
              "3  http://www.equine.com/horses-for-sale/horse-ad...  \n",
              "4  http://www.equine.com/horses-for-sale/horse-ad...  "
            ]
          },
          "execution_count": 16,
          "metadata": {},
          "output_type": "execute_result"
        }
      ],
      "source": [
        "#5\n",
        "df = pd.read_csv('horses.csv')\n",
        "df.head()"
      ]
    },
    {
      "cell_type": "code",
      "execution_count": null,
      "id": "223ff8a6",
      "metadata": {
        "id": "223ff8a6",
        "outputId": "0b52ec09-306a-4e95-f50f-a66337c361ee"
      },
      "outputs": [
        {
          "name": "stdout",
          "output_type": "stream",
          "text": [
            "Number of observation: 1080\n",
            "Mean: 7084.90\n",
            "Median: 3350.0\n",
            "Standard Deviation: 12690.62\n"
          ]
        }
      ],
      "source": [
        "#b\n",
        "price = df['price'].tolist()\n",
        "\n",
        "#number of observations is just the number of elements in the list\n",
        "print('Number of observation: '+str(len(price)))\n",
        "# record the realmean for later to draw line on the graph\n",
        "realmean = np.mean(price)\n",
        "# add zeros to reveal the rounded hidden zeros(not necessary)\n",
        "print('Mean: '+str(round(realmean, 2))+'0')\n",
        "print('Median: '+str(np.median(price)))\n",
        "print('Standard Deviation: '+str(round(np.std(price),2)))"
      ]
    },
    {
      "cell_type": "code",
      "execution_count": null,
      "id": "1660cf73",
      "metadata": {
        "id": "1660cf73",
        "outputId": "e6231f42-fde6-4859-a744-a5aae0fdd02f"
      },
      "outputs": [
        {
          "name": "stdout",
          "output_type": "stream",
          "text": [
            "Mean: 8594.26\n",
            "Median: 4000.0\n",
            "Standard Deviation: 14684.32\n"
          ]
        }
      ],
      "source": [
        "#c\n",
        "sample = np.random.choice(price, size = 100, replace=True)\n",
        "print('Mean: '+str(round(np.mean(sample), 2)))\n",
        "print('Median: '+str(np.median(sample)))\n",
        "print('Standard Deviation: '+str(round(np.std(sample),2)))"
      ]
    },
    {
      "cell_type": "code",
      "execution_count": null,
      "id": "37750dd4",
      "metadata": {
        "id": "37750dd4",
        "outputId": "cfd267b9-0987-427a-c2a2-2c7845787e82"
      },
      "outputs": [
        {
          "data": {
            "text/plain": [
              "array([6828.25, 4978.9 , 8857.25, 6814.  , 8317.09, 8596.  , 7556.  ,\n",
              "       5455.75, 5355.01, 8127.  ])"
            ]
          },
          "execution_count": 19,
          "metadata": {},
          "output_type": "execute_result"
        }
      ],
      "source": [
        "#d\n",
        "#This function generates n samples and returns a list recording all their means \n",
        "def sampmean(n):\n",
        "    means = np.zeros(n)\n",
        "    for i in range(n):\n",
        "        s = np.random.choice(price, size = 100)\n",
        "        means[i] = np.mean(s)\n",
        "    return means\n",
        "#means for question d\n",
        "dmean = sampmean(10)\n",
        "dmean"
      ]
    },
    {
      "cell_type": "code",
      "execution_count": null,
      "id": "819025d6",
      "metadata": {
        "id": "819025d6",
        "outputId": "5244da93-3e88-4ac3-8925-b363d34b07de"
      },
      "outputs": [
        {
          "data": {
            "image/png": "[encoded data removed]",
            "text/plain": [
              "<Figure size 432x288 with 1 Axes>"
            ]
          },
          "metadata": {
            "needs_background": "light"
          },
          "output_type": "display_data"
        }
      ],
      "source": [
        "#This function takes an array of means and plots the graph with a realmean and sampled mean\n",
        "#Only works for this dataset in the question as the realmean was previously stored\n",
        "def plotmean(mean):\n",
        "    plt.hist(mean, bins = 20)\n",
        "    plt.title('Distribution of 100 random horse price means: '+ str(len(mean))+' times')\n",
        "    plt.xlabel('Means')\n",
        "    plt.ylabel('Counts')\n",
        "    plt.axvline(realmean, color='red', \n",
        "                label = \"real mean\", \n",
        "                ls = '--', lw=3)\n",
        "    plt.axvline(np.mean(mean), color='green', \n",
        "                label = \"sampled mean\")\n",
        "    plt.legend()\n",
        "    plt.show()\n",
        "    \n",
        "plotmean(dmean)\n"
      ]
    },
    {
      "cell_type": "code",
      "execution_count": null,
      "id": "bfc2f572",
      "metadata": {
        "id": "bfc2f572",
        "outputId": "0ba9b206-1a87-4967-80bf-65dc2e409480"
      },
      "outputs": [
        {
          "data": {
            "image/png": "[encoded data removed]",
            "text/plain": [
              "<Figure size 432x288 with 1 Axes>"
            ]
          },
          "metadata": {
            "needs_background": "light"
          },
          "output_type": "display_data"
        }
      ],
      "source": [
        "#e\n",
        "#means for question e, uses the functions written in part d\n",
        "emean = sampmean(10000)\n",
        "plotmean(emean)"
      ]
    },
    {
      "cell_type": "markdown",
      "id": "4096c44b",
      "metadata": {
        "id": "4096c44b"
      },
      "source": [
        "(f) What do you notice about the mean of the sampling distribution as the number of samples increases?\n",
        "- As the sample size increases, the observed mean gets closer and closer to the theoretical mean because of the law of large numbers. \n",
        "\n",
        "(g) What do you notice about the shape of the sampling distribution as the number of samples increases?\n",
        "\n",
        "- The shape becomes closer to a bell-shaped curve as the sample size grow, which means that it gets closer to looking like a normal distribution.\n",
        "\n",
        "(h) What principle predicts the outcomes you see regarding the mean of the sampling distribution as the number of samples increases?\n",
        "\n",
        "- Law of large number \n",
        "\n",
        "(i) What principle predicts the outcomes you see regarding the shape of the sampling distribution as the number of samples increases?\n",
        "\n",
        "- Central limit theorem"
      ]
    }
  ],
  "metadata": {
    "kernelspec": {
      "display_name": "Python [conda env:dsua-111]",
      "language": "python",
      "name": "conda-env-dsua-111-py"
    },
    "language_info": {
      "codemirror_mode": {
        "name": "ipython",
        "version": 3
      },
      "file_extension": ".py",
      "mimetype": "text/x-python",
      "name": "python",
      "nbconvert_exporter": "python",
      "pygments_lexer": "ipython3",
      "version": "3.7.6"
    },
    "colab": {
      "name": "HW2_AnitaYe_yy3557.ipynb",
      "provenance": [],
      "include_colab_link": true
    }
  },
  "nbformat": 4,
  "nbformat_minor": 5
}