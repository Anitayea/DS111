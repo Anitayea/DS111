{
  "cells": [
    {
      "cell_type": "markdown",
      "metadata": {
        "id": "view-in-github",
        "colab_type": "text"
      },
      "source": [
        "<a href=\"https://colab.research.google.com/github/Anitayea/DS111/blob/main/HW1_AnitaYe_yy3557.ipynb\" target=\"_parent\"><img src=\"https://colab.research.google.com/assets/colab-badge.svg\" alt=\"Open In Colab\"/></a>"
      ]
    },
    {
      "cell_type": "markdown",
      "id": "7b73d73d",
      "metadata": {
        "id": "7b73d73d"
      },
      "source": [
        "1. Independent Varibles\n",
        "\n",
        "(a) An apple a day keeps the doctor away.\n",
        "\n",
        "- Independent Variables: An apple a day\n",
        "\n",
        "- Dependent Variables: Doctor / being ill\n",
        "\n",
        "(b) Answering work emails late at night may be contributing to burnout.\n",
        "\n",
        "- Independent Variables: Answering work emails late at night \n",
        "\n",
        "- Dependent Variables: Burnout\n",
        "\n",
        "(c) Proponents of miasma theory asserted that bad air was to blame for the cholera outbreak\n",
        "in 1850s London.\n",
        "\n",
        "- Independent Variables: bad air\n",
        "\n",
        "- Dependent Variables: cholera outbreak\n",
        "\n",
        "(d) Happiness is the result of many inputs; one crucial one is a sense of belonging.\n",
        "\n",
        "- Independent Variables: sense of belonging\n",
        "\n",
        "- Dependent Variables: happiness\n",
        "\n",
        "(e) Social media increases exposure to a variety of news outlets.\n",
        "\n",
        "- Independent Variables: Social media\n",
        "\n",
        "- Dependent Variables: exposure to a variety of news outlets"
      ]
    },
    {
      "cell_type": "markdown",
      "id": "2516a3fe",
      "metadata": {
        "id": "2516a3fe"
      },
      "source": [
        "2. Confounders\n",
        "\n",
        "(a) Screen time is associated with higher average global temperatures. Screen time causes\n",
        "climate change.\n",
        "\n",
        "- The confounder could be technological usage. Technological advances exhaust more energy and increase the amount of carbon dioxide which raises the global temperature, while also the quality of screens and related products at the same time. Therefore, this conclusion overlooks the key relationship between other technology beyond screens and environmental issues, and simply states a causal relationship between screen time and global temperature. It is very likely that with the development of technology, it is not only energy from the screen time rise but much other energy usages without screens such as more powerful air conditioners and ovens. \n",
        "\n",
        "\n",
        "(b) People who own private jets are more likely to live longer. Owning a private jet increases\n",
        "your lifespan.\n",
        "\n",
        "- The confounder could be the wealth of the person with jets. Owning private jets could imply wealth, which means more advanced medical support, such as targeted therapy and cutting-edge treatment, which all could possibly make them live longer. This false conclusion used a derived conclusion \"owning jets\" from the condition \"wealthiness\", which is the confounder here.   \n",
        "\n",
        "(c) People who spend more time outside are more likely to report a positive mood. Going\n",
        "outside improves your mood.\n",
        "\n",
        "- A possible confounder could be the number of friends. Going outside does not directly relate to a good mood, but it may suggest that people who go outside have more plans of what they are heading into and maybe more friends, which leads to a more positive mood. Going outside is often an option when hanging out with friends, and friends usually cheer people up even if one is having a bad time, which results in a positive mood. Taking friends as an independent variable here, the place of hanging out, which is outside in this case, seemed not to matter too much. \n",
        "\n",
        "\n",
        "(d) People who spend more time on social media are more likely to have irregular sleep\n",
        "patterns. Social media causes irregular sleep patterns.\n",
        "\n",
        "- A possible confounder could be the person's job. Spending time on social media could mean that one is an influencer or their work depend heavily on social media. They are likely to have a tight but irregular working schedule and may not be able to maintain stable sleep patterns. \n",
        "\n",
        "- Another possible confounder could be the person's pressure level. For example, people with mental illness such as anxiety, or traumatized, will probably need a distraction, social media in this case, to redirect their attention and relieve their pressure. This action could result in irregular sleeping time. Therefore, it is the need because of their mental status that is causing irregular sleep patterns.\n"
      ]
    },
    {
      "cell_type": "markdown",
      "id": "72f39636",
      "metadata": {
        "id": "72f39636"
      },
      "source": [
        "3. \n",
        "\n",
        "(a) An increase in real estate prices causes homelessness.\n",
        "\n",
        "- Not endogenous. An increase in real estate could cause people to be unable to pay their rent, which results in homelessness. However, the other way causation does not work: homelessness does not cause an increase in real estate. As more people become unemployed and unable to pay, the price of the estate will eventually go down, or other supplies will shift down to balance the equilibrium in the economy. \n",
        "\n",
        "\n",
        "(b) A drop in barometric pressure causes migraines.\n",
        "\n",
        "- Not endogenous. A drop in barometric pressure does cause migraines; however, the reverse does not make sense: migraines do not cause a drop in barometric pressure. \n",
        "\n",
        "\n",
        "(c) Controversial books tend to sell better.\n",
        "\n",
        "- Endogenous. Controversial books do sell better because it means that it has richer and more complicated discussion space. When a book is already selling great, it will attract more curious people because of its fame from the controversies. The more books are sold, the more people will know and read about them, and it is possible that they become more controversial as more people join the discussion with more perspectives. \n",
        "\n",
        "\n",
        "(d) Exercise causes happiness.\n",
        "\n",
        "- Endogenous. Exercise produces dopamine, therefore people feel happier. Similarly, when people receive happiness from exercise, they tend to exercise more because of this positive response. Happiness gained from exercise will give motivation to them, and they will repeat this behaviour for positive stimuli. Therefore, happiness prompts people to exercise as well. \n",
        "\n",
        "\n",
        "(e) Volunteering in one’s community causes people to also participate more in local politics.\n",
        "\n",
        "- Endogenous. Volunteering does indicate a strong sense of community, and therefore it is likely that they care more about local people and politics. Meanwhile, participating in local politics will cause people to understand and care more about the community, which leads them to do more volunteering to give back to the community and make it a better place. "
      ]
    },
    {
      "cell_type": "markdown",
      "id": "80452d05",
      "metadata": {
        "id": "80452d05"
      },
      "source": [
        "4.Abstract\n",
        "\n",
        "(a) What is the treatment of interest in the study?\n",
        "\n",
        "- self-reflection on school behavior of underperforming secondary school students. \n",
        "\n",
        "(b) What is/are the outcome(s) of interest in the study?\n",
        "\n",
        "- School performance based on students' GPA, school engagement, and self-concept.\n",
        "\n",
        "- Result(not outcomes of interest): Performance is merely based on social emotional factors that people usually considered. Students with higher school motivation were approximately 29% more likely to comply, while higher level of self-concpt of school tasks were 17% less likely to comply. \n",
        "\n",
        "\n",
        "(c) What is the independent variable in this study?\n",
        "\n",
        "- Self-reflection on school behaviour of underperforming secondary school students. \n",
        "\n",
        "\n",
        "(d) What is/are the dependent variable(s) in this study?\n",
        "\n",
        "- School performance based on students' GPA, school engagement, and self-concept.\n",
        "\n",
        "\n",
        "(e) Is treatment status randomized? How do you know?\n",
        "\n",
        "- Yes, because it used a \"randomized field experiment\". First, the selected group is controlled with a considerable age and grade range, and the SD is small, which means that the sample is chosen carefully. (the sample comprised 337 ninth-grade students, with a median of 15.74 years old and standard deviation of 0.58) Second, the sample was also chosen from different schools to avoid spillover effects and other biased data that could possibly happen if taken from one school. To be more precise, schools are chosen in random cities to avoid further communication of information that could potentially affect the results. Finally, the random assignment is conducted by an external party which made sure of no bias. \n",
        "\n",
        "\n",
        "(f) Is this study an experiment, a natural experiment, or an observational study? How do\n",
        "you know?\n",
        "\n",
        "- This study is an experiment since it conducted a treatment, which is self-reflection in this case, with a control group and measured responses. The researchers intervened in the study with the teachers. Since the researchers made movements and changes to the subjects, it could not be an observational study.  \n",
        "\n",
        "(g) Though the abstract is not explicit about this, what is the implied control group?\n",
        "\n",
        "- The control group is the underperforming secondary school students who did not do self-reflection on their school behaviour. \n",
        "\n",
        "(h) The abstract doesn’t state this, but what might be a plausible placebo in this experiment, and why might the researchers use one?\n",
        "\n",
        "- A possible placebo is to conduct a blind treatment where students are unaware of whether or not they received treatment. For example, the controlled group can conduct other school-related activities for both groups to do as \"treatment\", such as a scheduled light exercise, which makes them believe that they are all receiving treatments. In this way, the two groups do not know that one of them is the controlled group, which could erase further spillover effects that could cause unpredictable errors from knowing themselves being the tested group. \n"
      ]
    },
    {
      "cell_type": "markdown",
      "id": "4d0f02e6",
      "metadata": {
        "id": "4d0f02e6"
      },
      "source": [
        "5. \n",
        "\n",
        "\n",
        "(a) This abstract does something (fairly) unusual, which is comment on the compliance rate.\n",
        "What does “compliance” mean in the context of research design, and specifically to what\n",
        "are the researchers referring here?\n",
        "\n",
        "- Compliance in research means adherence to experiment rules and conducts, which reduces possible risks and errors. In this case, compliance means the degree of cooperation of the students, therefore how willing they are to do their self-reflection under the intervention. \n",
        "\n",
        "\n",
        "(b) The abstract also does not explicitly state this, but what are the implied alternative and\n",
        "null hypotheses in this study?\n",
        "\n",
        "- The alternative hypothesis is that self-reflection on the school behavior of underperforming secondary school students positively affects their school performance. \n",
        "\n",
        "- The null hypothesis is that self-reflection on the school behavior of underperforming secondary school students does not affect their school performance. \n",
        "\n",
        "\n",
        "(c) Do the researchers reject or fail to reject the null hypothesis (again, based only on the\n",
        "abstract)? How do you know?\n",
        "\n",
        "- They failed to reject the null hypothesis as they stated that it merely affected school performance: \"no significant effects of the treatment were observed on students’ GPA, school motivation, hours spent on homework, or self-concept of school tasks.\" However, they also rejected the null hypothesis to some point, as they also stated that \"the treatment showed a negative effect on the self-concept of leadership skills.\" \n",
        "\n",
        "\n",
        "(d) The researchers obviously carried out this study because it exists and we are reading\n",
        "about it, but what is a plausible practical challenge surrounding conducting this study?\n",
        "\n",
        "\n",
        "- There are still possible flaws in conducting the experiment since this research is heavily dependent on information spread. It will affect their performance and reflections if they know they have been monitored. Without many details, we are not sure of the controlled blinded tests and whether such information has been leaked, which could potentially affect the result of the experiment. \n",
        "\n",
        "- On another note, it is also likely that the families or schools may refuse to comply because of potentially harmful consequences. \n",
        "\n",
        "\n",
        "(e) What is a plausible ethical challenge the researchers (we hope) had to grapple with in\n",
        "designing and carrying out this research? What’s one plausible way to address or at\n",
        "least mitigate the ethical issue you raise?\n",
        "\n",
        "- Because this test is based on students' school performance, it is likely that it could worsen students' passion and engagement when given less expectation and attention to their self-reflections. This could be ethically challenging since the parents and the students obviously would not want anything that negatively influences them in school, as it will also affect their lives after school. \n",
        "\n",
        "- For example, as it showed a negative effect on the self-concept of leadership skills, it may affect students' school lives that involve leadership. It is reasonable to blame, for example, a student failing to perform the responsibility of a group leader for the project on the result of this study. Teachers need to boost their leadership skills with extra attention and practice for those who were negatively affected. \n",
        "\n",
        "- Also, students will feel bad once they realize they have been chosen as underperforming students and felt their privacy invaded as researchers monitor their conditions with self-reflections. Researchers could try to promise confidentiality with the families and school. \n"
      ]
    },
    {
      "cell_type": "markdown",
      "id": "d30540d2",
      "metadata": {
        "id": "d30540d2"
      },
      "source": [
        "6. "
      ]
    },
    {
      "cell_type": "code",
      "execution_count": null,
      "id": "9d6ba5e2",
      "metadata": {
        "id": "9d6ba5e2"
      },
      "outputs": [],
      "source": [
        "import numpy as np\n",
        "import pandas as pd\n",
        "from statistics import mean"
      ]
    },
    {
      "cell_type": "code",
      "execution_count": null,
      "id": "27f06879",
      "metadata": {
        "id": "27f06879",
        "outputId": "7f47fa5e-b5d6-4833-d6dc-5464972c4a94"
      },
      "outputs": [
        {
          "data": {
            "text/plain": [
              "array([3114569, 3094026, 3022008, 2789513, 1325041, 1794401, 2730600])"
            ]
          },
          "execution_count": 2,
          "metadata": {},
          "output_type": "execute_result"
        }
      ],
      "source": [
        "#a\n",
        "myarray = np.array([3114569, 3094026, 3022008, 2789513, 1325041, 1794401, 2730600])\n",
        "myarray"
      ]
    },
    {
      "cell_type": "code",
      "execution_count": null,
      "id": "f5093d14",
      "metadata": {
        "id": "f5093d14",
        "outputId": "5965ce38-06e4-4819-e07f-0a1036638e01"
      },
      "outputs": [
        {
          "data": {
            "text/plain": [
              "numpy.ndarray"
            ]
          },
          "execution_count": 3,
          "metadata": {},
          "output_type": "execute_result"
        }
      ],
      "source": [
        "#b\n",
        "type(myarray)"
      ]
    },
    {
      "cell_type": "code",
      "execution_count": null,
      "id": "a03ecb47",
      "metadata": {
        "id": "a03ecb47",
        "outputId": "f7ed9881-30ba-494e-dd4f-8ac56fcd2aef"
      },
      "outputs": [
        {
          "data": {
            "text/plain": [
              "2552879.714285714"
            ]
          },
          "execution_count": 4,
          "metadata": {},
          "output_type": "execute_result"
        }
      ],
      "source": [
        "#c\n",
        "np.mean(myarray)"
      ]
    },
    {
      "cell_type": "code",
      "execution_count": null,
      "id": "012e8f08",
      "metadata": {
        "id": "012e8f08",
        "outputId": "87c7d768-52b6-49bf-8165-c4126cde9f75"
      },
      "outputs": [
        {
          "data": {
            "text/plain": [
              "2552879"
            ]
          },
          "execution_count": 5,
          "metadata": {},
          "output_type": "execute_result"
        }
      ],
      "source": [
        "#d\n",
        "int(mean(myarray))"
      ]
    },
    {
      "cell_type": "code",
      "execution_count": null,
      "id": "4ac4bb6f",
      "metadata": {
        "id": "4ac4bb6f",
        "outputId": "d2e2f9b5-e00a-42b5-8dcd-9101404bdbf5"
      },
      "outputs": [
        {
          "data": {
            "text/plain": [
              "array([2919797, 2945876, 2639986])"
            ]
          },
          "execution_count": 6,
          "metadata": {},
          "output_type": "execute_result"
        }
      ],
      "source": [
        "#e\n",
        "secondarray = np.array([2919797, 2945876, 2639986])\n",
        "secondarray"
      ]
    },
    {
      "cell_type": "code",
      "execution_count": null,
      "id": "87fddcb6",
      "metadata": {
        "id": "87fddcb6",
        "outputId": "64c85e0b-e63a-4d0b-d804-9f0ea563f996"
      },
      "outputs": [
        {
          "data": {
            "text/plain": [
              "array([3114569, 3094026, 3022008, 2789513, 1325041, 1794401, 2730600,\n",
              "       2919797, 2945876, 2639986])"
            ]
          },
          "execution_count": 7,
          "metadata": {},
          "output_type": "execute_result"
        }
      ],
      "source": [
        "#f\n",
        "fullarray = np.append(myarray, secondarray)\n",
        "fullarray"
      ]
    },
    {
      "cell_type": "code",
      "execution_count": null,
      "id": "5bcd1b6b",
      "metadata": {
        "id": "5bcd1b6b",
        "outputId": "cf9592b7-dba0-4f12-8c5e-2c7e48409975"
      },
      "outputs": [
        {
          "data": {
            "text/html": [
              "<div>\n",
              "<style scoped>\n",
              "    .dataframe tbody tr th:only-of-type {\n",
              "        vertical-align: middle;\n",
              "    }\n",
              "\n",
              "    .dataframe tbody tr th {\n",
              "        vertical-align: top;\n",
              "    }\n",
              "\n",
              "    .dataframe thead th {\n",
              "        text-align: right;\n",
              "    }\n",
              "</style>\n",
              "<table border=\"1\" class=\"dataframe\">\n",
              "  <thead>\n",
              "    <tr style=\"text-align: right;\">\n",
              "      <th></th>\n",
              "      <th>Date</th>\n",
              "      <th>Total Estimated Ridership</th>\n",
              "      <th>% of Comparable Pre-Pandemic Day</th>\n",
              "    </tr>\n",
              "  </thead>\n",
              "  <tbody>\n",
              "    <tr>\n",
              "      <th>0</th>\n",
              "      <td>Thursday, 2/10/22</td>\n",
              "      <td>3,114,569</td>\n",
              "      <td>54.9%</td>\n",
              "    </tr>\n",
              "    <tr>\n",
              "      <th>1</th>\n",
              "      <td>Wednesday, 2/9/22</td>\n",
              "      <td>3,094,026</td>\n",
              "      <td>55.5%</td>\n",
              "    </tr>\n",
              "    <tr>\n",
              "      <th>2</th>\n",
              "      <td>Tuesday, 2/8/22</td>\n",
              "      <td>3,022,008</td>\n",
              "      <td>53.9%</td>\n",
              "    </tr>\n",
              "  </tbody>\n",
              "</table>\n",
              "</div>"
            ],
            "text/plain": [
              "                Date Total Estimated Ridership  \\\n",
              "0  Thursday, 2/10/22                 3,114,569   \n",
              "1  Wednesday, 2/9/22                 3,094,026   \n",
              "2    Tuesday, 2/8/22                 3,022,008   \n",
              "\n",
              "  % of Comparable Pre-Pandemic Day  \n",
              "0                            54.9%  \n",
              "1                            55.5%  \n",
              "2                            53.9%  "
            ]
          },
          "execution_count": 8,
          "metadata": {},
          "output_type": "execute_result"
        }
      ],
      "source": [
        "#g\n",
        "dict = {'Date' : ['Thursday, 2/10/22', 'Wednesday, 2/9/22', 'Tuesday, 2/8/22'],\n",
        "        'Total Estimated Ridership': ['3,114,569', '3,094,026', '3,022,008'],\n",
        "        '% of Comparable Pre-Pandemic Day': ['54.9%', '55.5%', '53.9%']}\n",
        "df = pd.DataFrame(dict)\n",
        "df"
      ]
    },
    {
      "cell_type": "markdown",
      "id": "772efac7",
      "metadata": {
        "id": "772efac7"
      },
      "source": [
        "h\n",
        "The unit of the table is simply the first line: Date, Ridership, and percentage of comaprable pre-pandemic day. "
      ]
    },
    {
      "cell_type": "code",
      "execution_count": null,
      "id": "5ad9ca4d",
      "metadata": {
        "id": "5ad9ca4d",
        "outputId": "9d74ed63-8dfa-4f96-a747-dfbea04195bf"
      },
      "outputs": [
        {
          "data": {
            "text/plain": [
              "dict_keys(['Date', 'Total Estimated Ridership', '% of Comparable Pre-Pandemic Day'])"
            ]
          },
          "execution_count": 9,
          "metadata": {},
          "output_type": "execute_result"
        }
      ],
      "source": [
        "#h in code\n",
        "dict.keys()"
      ]
    },
    {
      "cell_type": "code",
      "execution_count": null,
      "id": "81ba5d71",
      "metadata": {
        "id": "81ba5d71",
        "outputId": "48b1411e-81ab-460c-b432-1334a727efa6"
      },
      "outputs": [
        {
          "data": {
            "text/plain": [
              "Date                                object\n",
              "Total Estimated Ridership           object\n",
              "% of Comparable Pre-Pandemic Day    object\n",
              "dtype: object"
            ]
          },
          "execution_count": 10,
          "metadata": {},
          "output_type": "execute_result"
        }
      ],
      "source": [
        "#i \n",
        "df.dtypes"
      ]
    },
    {
      "cell_type": "markdown",
      "id": "7e5fdd4c",
      "metadata": {
        "id": "7e5fdd4c"
      },
      "source": [
        "#i\n",
        "\n",
        "Because all the columns are originally objects -- strings, as shown below using dtypes, we can not calculate means. Therefore, we simply put the column we want into a list, erasing characters we do not want, like commas and '%' here, then make then all floats, and use np.mean to calculate the mean. "
      ]
    },
    {
      "cell_type": "code",
      "execution_count": null,
      "id": "d36f479b",
      "metadata": {
        "scrolled": true,
        "id": "d36f479b",
        "outputId": "52394b86-26bd-47ea-dc79-aad77556e785"
      },
      "outputs": [
        {
          "data": {
            "text/plain": [
              "0    3,114,569\n",
              "1    3,094,026\n",
              "2    3,022,008\n",
              "Name: Total Estimated Ridership, dtype: object"
            ]
          },
          "execution_count": 11,
          "metadata": {},
          "output_type": "execute_result"
        }
      ],
      "source": [
        "df['Total Estimated Ridership']"
      ]
    },
    {
      "cell_type": "code",
      "execution_count": null,
      "id": "934a8c36",
      "metadata": {
        "id": "934a8c36",
        "outputId": "c202f879-6444-44c0-c286-0846be78f897"
      },
      "outputs": [
        {
          "data": {
            "text/plain": [
              "3076867.6666666665"
            ]
          },
          "execution_count": 12,
          "metadata": {},
          "output_type": "execute_result"
        }
      ],
      "source": [
        "#mean for Total Estimated Ridership\n",
        "r = df['Total Estimated Ridership']\n",
        "rl = r.tolist()\n",
        "for i in range(3):\n",
        "    rl[i] = int(rl[i].replace(',', ''))\n",
        "np.mean(rl)"
      ]
    },
    {
      "cell_type": "code",
      "execution_count": null,
      "id": "de48d53c",
      "metadata": {
        "id": "de48d53c",
        "outputId": "501deabf-4f9d-413d-b4ee-35f32fd928d1"
      },
      "outputs": [
        {
          "data": {
            "text/plain": [
              "54.76666666666667"
            ]
          },
          "execution_count": 13,
          "metadata": {},
          "output_type": "execute_result"
        }
      ],
      "source": [
        "#mean for % of Comparable Pre-Pandemic Day\n",
        "p = df['% of Comparable Pre-Pandemic Day']\n",
        "pl = p.tolist()\n",
        "for i in range(3):\n",
        "    pl[i] = float(pl[i].replace('%', ''))\n",
        "np.mean(pl)"
      ]
    },
    {
      "cell_type": "markdown",
      "id": "04b24be2",
      "metadata": {
        "id": "04b24be2"
      },
      "source": [
        "7. "
      ]
    },
    {
      "cell_type": "code",
      "execution_count": null,
      "id": "5b6c8b68",
      "metadata": {
        "id": "5b6c8b68",
        "outputId": "ec354354-d312-4073-d6ef-a1964f37e2fa"
      },
      "outputs": [
        {
          "name": "stdout",
          "output_type": "stream",
          "text": [
            "15\n"
          ]
        }
      ],
      "source": [
        "#a\n",
        "a=5\n",
        "b=3\n",
        "print(a*b)"
      ]
    },
    {
      "cell_type": "code",
      "execution_count": null,
      "id": "ca6e2c70",
      "metadata": {
        "id": "ca6e2c70",
        "outputId": "ad200060-7907-4ba9-a18a-f94fbd230e44"
      },
      "outputs": [
        {
          "name": "stdout",
          "output_type": "stream",
          "text": [
            "15\n",
            "12\n"
          ]
        }
      ],
      "source": [
        "#b\n",
        "while(b<a):\n",
        "  print (a*b)\n",
        "  a-=1"
      ]
    },
    {
      "cell_type": "code",
      "execution_count": null,
      "id": "2f91789d",
      "metadata": {
        "id": "2f91789d"
      },
      "outputs": [],
      "source": [
        "#c\n",
        "def c(a,b):\n",
        "  while(b<a):\n",
        "    product = a*b\n",
        "    print(product)\n",
        "    a-=1\n",
        "  return product\n"
      ]
    },
    {
      "cell_type": "code",
      "execution_count": null,
      "id": "d959c8d9",
      "metadata": {
        "id": "d959c8d9",
        "outputId": "ad80c851-a1d0-4c63-858e-4cf48f2934d9"
      },
      "outputs": [
        {
          "name": "stdout",
          "output_type": "stream",
          "text": [
            "15\n",
            "12\n"
          ]
        },
        {
          "data": {
            "text/plain": [
              "12"
            ]
          },
          "execution_count": 17,
          "metadata": {},
          "output_type": "execute_result"
        }
      ],
      "source": [
        "#d\n",
        "final = c(5,3)\n",
        "final\n"
      ]
    },
    {
      "cell_type": "code",
      "execution_count": null,
      "id": "867816cf",
      "metadata": {
        "id": "867816cf",
        "outputId": "cd41d722-ad51-461f-9ce2-c2040118a0be"
      },
      "outputs": [
        {
          "name": "stdout",
          "output_type": "stream",
          "text": [
            "12\n"
          ]
        }
      ],
      "source": [
        "#e\n",
        "if(final>=10):\n",
        "  print(final)\n",
        "else:\n",
        "  print(\"less than 10\")"
      ]
    },
    {
      "cell_type": "code",
      "execution_count": null,
      "id": "00a419c3",
      "metadata": {
        "id": "00a419c3"
      },
      "outputs": [],
      "source": [
        ""
      ]
    }
  ],
  "metadata": {
    "kernelspec": {
      "display_name": "Python [conda env:dsua-111]",
      "language": "python",
      "name": "conda-env-dsua-111-py"
    },
    "language_info": {
      "codemirror_mode": {
        "name": "ipython",
        "version": 3
      },
      "file_extension": ".py",
      "mimetype": "text/x-python",
      "name": "python",
      "nbconvert_exporter": "python",
      "pygments_lexer": "ipython3",
      "version": "3.7.6"
    },
    "colab": {
      "name": "HW1_AnitaYe_yy3557.ipynb",
      "provenance": [],
      "include_colab_link": true
    }
  },
  "nbformat": 4,
  "nbformat_minor": 5
}